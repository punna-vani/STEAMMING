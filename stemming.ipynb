{
 "cells": [
  {
   "cell_type": "code",
   "execution_count": 1,
   "id": "4fc6ee7d",
   "metadata": {},
   "outputs": [],
   "source": [
    "import nltk"
   ]
  },
  {
   "cell_type": "code",
   "execution_count": 2,
   "id": "5c32ec55",
   "metadata": {},
   "outputs": [],
   "source": [
    "from nltk.stem import PorterStemmer"
   ]
  },
  {
   "cell_type": "code",
   "execution_count": 3,
   "id": "f31b3e1c",
   "metadata": {},
   "outputs": [],
   "source": [
    "from nltk.corpus import stopwords"
   ]
  },
  {
   "cell_type": "code",
   "execution_count": 4,
   "id": "5a6b60c6",
   "metadata": {},
   "outputs": [],
   "source": [
    "paragraph=\"\"\"The sun slowly set on the horizon, casting a warm orange glow across the tranquil countryside.\n",
    "Birds chirped melodiously in the trees, their songs blending with the gentle rustle of leaves in the breeze.\n",
    "The air was filled with a sweet scent of blooming flowers, as if nature itself was exhaling its beauty.\n",
    "In the distance, a small stream meandered through the meadows, its crystal-clear waters reflecting the colors of the setting sun. \n",
    "It was a serene and idyllic scene, a moment of peaceful harmony that reminded one of the simple joys of life.\"\"\""
   ]
  },
  {
   "cell_type": "code",
   "execution_count": 5,
   "id": "a659de02",
   "metadata": {},
   "outputs": [],
   "source": [
    "sentences=nltk.sent_tokenize(paragraph)"
   ]
  },
  {
   "cell_type": "code",
   "execution_count": 6,
   "id": "001f46e1",
   "metadata": {},
   "outputs": [],
   "source": [
    "stemmer=PorterStemmer()"
   ]
  },
  {
   "cell_type": "code",
   "execution_count": 8,
   "id": "d36cdd29",
   "metadata": {},
   "outputs": [],
   "source": [
    "for i in range(len(sentences)):\n",
    "    words=nltk.word_tokenize(sentences[i])\n",
    "    words=[stemmer.stem(word)for word in words if word not in set(stopwords.words('english'))]\n",
    "    sentences[i]=' '.join(words)"
   ]
  },
  {
   "cell_type": "code",
   "execution_count": 9,
   "id": "d9926a1d",
   "metadata": {},
   "outputs": [
    {
     "data": {
      "text/plain": [
       "5"
      ]
     },
     "execution_count": 9,
     "metadata": {},
     "output_type": "execute_result"
    }
   ],
   "source": [
    "len(sentences)"
   ]
  },
  {
   "cell_type": "code",
   "execution_count": 10,
   "id": "12620fe4",
   "metadata": {},
   "outputs": [
    {
     "data": {
      "text/plain": [
       "['the sun slowli set horizon , cast warm orang glow across tranquil countrysid .',\n",
       " 'bird chirp melodi tree , song blend gentl rustl leav breez .',\n",
       " 'the air fill sweet scent bloom flower , natur exhal beauti .',\n",
       " 'in distanc , small stream meander meadow , crystal-clear water reflect color set sun .',\n",
       " 'it seren idyl scene , moment peac harmoni remind one simpl joy life .']"
      ]
     },
     "execution_count": 10,
     "metadata": {},
     "output_type": "execute_result"
    }
   ],
   "source": [
    "sentences"
   ]
  }
 ],
 "metadata": {
  "kernelspec": {
   "display_name": "Python 3 (ipykernel)",
   "language": "python",
   "name": "python3"
  },
  "language_info": {
   "codemirror_mode": {
    "name": "ipython",
    "version": 3
   },
   "file_extension": ".py",
   "mimetype": "text/x-python",
   "name": "python",
   "nbconvert_exporter": "python",
   "pygments_lexer": "ipython3",
   "version": "3.10.9"
  }
 },
 "nbformat": 4,
 "nbformat_minor": 5
}
